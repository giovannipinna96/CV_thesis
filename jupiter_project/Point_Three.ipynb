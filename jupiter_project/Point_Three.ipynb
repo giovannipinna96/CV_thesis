{
 "cells": [
  {
   "cell_type": "markdown",
   "metadata": {},
   "source": [
    "# Third Point"
   ]
  },
  {
   "cell_type": "markdown",
   "metadata": {},
   "source": [
    "Use transfer learning based on a pre-trained network in two manners."
   ]
  },
  {
   "cell_type": "code",
   "execution_count": 2,
   "metadata": {},
   "outputs": [
    {
     "name": "stdout",
     "output_type": "stream",
     "text": [
      "importing Jupyter notebook from dataSetUtility.ipynb\n",
      "importing Jupyter notebook from plottingUtility.ipynb\n"
     ]
    }
   ],
   "source": [
    "import cv2 as cv2\n",
    "import glob\n",
    "import os\n",
    "import numpy as np\n",
    "import pandas as pd\n",
    "import matplotlib.pyplot as plt\n",
    "\n",
    "from tensorflow.keras import optimizers, initializers\n",
    "from tensorflow.keras.preprocessing import image\n",
    "from tensorflow.keras.models import Sequential, Model\n",
    "from tensorflow.keras.layers import Dense, Conv2D, Flatten,Dropout, MaxPooling2D, AveragePooling2D\n",
    "from tensorflow.keras.utils import to_categorical, plot_model\n",
    "from tensorflow.keras.callbacks import EarlyStopping, History\n",
    "from tensorflow.keras.applications.vgg16 import preprocess_input\n",
    "from tensorflow.keras.applications.vgg16 import VGG16\n",
    "\n",
    "from sklearn.metrics import confusion_matrix\n",
    "from sklearn.model_selection import train_test_split\n",
    "\n",
    "import import_ipynb\n",
    "import dataSetUtility as dsu\n",
    "import plottingUtility as pltu"
   ]
  },
  {
   "cell_type": "markdown",
   "metadata": {},
   "source": [
    "Read all images and create a Training Data"
   ]
  },
  {
   "cell_type": "code",
   "execution_count": 3,
   "metadata": {},
   "outputs": [
    {
     "name": "stdout",
     "output_type": "stream",
     "text": [
      "Class number:  12\n",
      "Class names:  ['171', '178_FORSE', '371', '385_FORSE', '43', '438', '619', '655', '659', '72', '96', 'Grandi']\n"
     ]
    }
   ],
   "source": [
    "#path to the directories\n",
    "pathTrain=r'C:\\Users\\39320\\Desktop\\tesi\\Computer-Vision-2020-main\\ImageSet\\train'\n",
    "pathTest=r'C:\\Users\\39320\\Desktop\\tesi\\Computer-Vision-2020-main\\ImageSet\\test'\n",
    "\n",
    "labels = [os.path.basename(i) for i in glob.glob(pathTrain + '/*', recursive=True)]\n",
    "numberOfClasses = len(labels)\n",
    "print(\"Class number: \", numberOfClasses)\n",
    "print(\"Class names: \", labels)"
   ]
  },
  {
   "cell_type": "markdown",
   "metadata": {},
   "source": [
    "To use images on VGG they need to have size (224, 224)"
   ]
  },
  {
   "cell_type": "code",
   "execution_count": 4,
   "metadata": {},
   "outputs": [],
   "source": [
    "xTrain, yTrain = dsu.loadImages(pathTrain, labels, dimension=128)\n",
    "xTest, yTest = dsu.loadImages(pathTest, labels, dimension=128)"
   ]
  },
  {
   "cell_type": "markdown",
   "metadata": {},
   "source": [
    "create a list of images for train and test set"
   ]
  },
  {
   "cell_type": "code",
   "execution_count": 5,
   "metadata": {},
   "outputs": [],
   "source": [
    "trainImagesList = []\n",
    "testImagesList = []\n",
    "for label in labels:\n",
    "    sTrain = pathTrain+'/'+label+'/{}'\n",
    "    sTest = pathTest+'/'+label+'/{}'\n",
    "    tempTrain = [sTrain.format(i) for i in os.listdir(pathTrain+'/'+label+'/')]\n",
    "    tempTest = [sTest.format(i) for i in os.listdir(pathTest+'/'+label+'/')]\n",
    "    trainImagesList = trainImagesList + tempTrain\n",
    "    testImagesList = testImagesList + tempTest"
   ]
  },
  {
   "cell_type": "markdown",
   "metadata": {},
   "source": [
    "prepocessing images using keras libraries for VGG"
   ]
  },
  {
   "cell_type": "code",
   "execution_count": 6,
   "metadata": {},
   "outputs": [],
   "source": [
    "trainImages = []\n",
    "for img in trainImagesList:\n",
    "    tmp = image.load_img(img, target_size=(128,128))\n",
    "    tmp = image.img_to_array(tmp)\n",
    "    trainImages.append(tmp)\n",
    "\n",
    "\n",
    "trainImages=np.array(trainImages)\n",
    "trainImg=preprocess_input(trainImages)\n",
    "trainLabelsDummy=to_categorical(yTrain,12)"
   ]
  },
  {
   "cell_type": "code",
   "execution_count": 7,
   "metadata": {},
   "outputs": [],
   "source": [
    "testImages = []\n",
    "for img in testImagesList:\n",
    "    tmp = image.load_img(img, target_size=(128,128))\n",
    "    tmp = image.img_to_array(tmp)\n",
    "    testImages.append(tmp)\n",
    "\n",
    "testImages=np.array(testImages)\n",
    "testImg=preprocess_input(testImages)\n",
    "testLabelsDummy=to_categorical(yTest,12)"
   ]
  },
  {
   "cell_type": "markdown",
   "metadata": {},
   "source": [
    "We build the VGG16 model"
   ]
  },
  {
   "cell_type": "code",
   "execution_count": 8,
   "metadata": {},
   "outputs": [
    {
     "name": "stdout",
     "output_type": "stream",
     "text": [
      "Model: \"sequential\"\n",
      "_________________________________________________________________\n",
      "Layer (type)                 Output Shape              Param #   \n",
      "=================================================================\n",
      "block1_conv1 (Conv2D)        (None, 128, 128, 64)      1792      \n",
      "_________________________________________________________________\n",
      "block1_conv2 (Conv2D)        (None, 128, 128, 64)      36928     \n",
      "_________________________________________________________________\n",
      "block1_pool (MaxPooling2D)   (None, 64, 64, 64)        0         \n",
      "_________________________________________________________________\n",
      "block2_conv1 (Conv2D)        (None, 64, 64, 128)       73856     \n",
      "_________________________________________________________________\n",
      "block2_conv2 (Conv2D)        (None, 64, 64, 128)       147584    \n",
      "_________________________________________________________________\n",
      "block2_pool (MaxPooling2D)   (None, 32, 32, 128)       0         \n",
      "_________________________________________________________________\n",
      "block3_conv1 (Conv2D)        (None, 32, 32, 256)       295168    \n",
      "_________________________________________________________________\n",
      "block3_conv2 (Conv2D)        (None, 32, 32, 256)       590080    \n",
      "_________________________________________________________________\n",
      "block3_conv3 (Conv2D)        (None, 32, 32, 256)       590080    \n",
      "_________________________________________________________________\n",
      "block3_pool (MaxPooling2D)   (None, 16, 16, 256)       0         \n",
      "_________________________________________________________________\n",
      "block4_conv1 (Conv2D)        (None, 16, 16, 512)       1180160   \n",
      "_________________________________________________________________\n",
      "block4_conv2 (Conv2D)        (None, 16, 16, 512)       2359808   \n",
      "_________________________________________________________________\n",
      "block4_conv3 (Conv2D)        (None, 16, 16, 512)       2359808   \n",
      "_________________________________________________________________\n",
      "block4_pool (MaxPooling2D)   (None, 8, 8, 512)         0         \n",
      "_________________________________________________________________\n",
      "block5_conv1 (Conv2D)        (None, 8, 8, 512)         2359808   \n",
      "_________________________________________________________________\n",
      "block5_conv2 (Conv2D)        (None, 8, 8, 512)         2359808   \n",
      "_________________________________________________________________\n",
      "block5_conv3 (Conv2D)        (None, 8, 8, 512)         2359808   \n",
      "_________________________________________________________________\n",
      "flatten (Flatten)            (None, 32768)             0         \n",
      "_________________________________________________________________\n",
      "dense (Dense)                (None, 4096)              134221824 \n",
      "_________________________________________________________________\n",
      "dense_1 (Dense)              (None, 4096)              16781312  \n",
      "_________________________________________________________________\n",
      "dense_2 (Dense)              (None, 4096)              16781312  \n",
      "_________________________________________________________________\n",
      "dense_3 (Dense)              (None, 12)                49164     \n",
      "=================================================================\n",
      "Total params: 182,548,300\n",
      "Trainable params: 167,833,612\n",
      "Non-trainable params: 14,714,688\n",
      "_________________________________________________________________\n"
     ]
    }
   ],
   "source": [
    "adam = optimizers.Adam()\n",
    "vgg = VGG16(weights='imagenet', include_top=False, input_shape=(128,128,3))\n",
    "model = Sequential()\n",
    "#freeze all layers except the last one\n",
    "\n",
    "for layer in vgg.layers[:-1]:\n",
    "    layer.trainable = False\n",
    "    model.add(layer)\n",
    "       \n",
    "model.add(Flatten())\n",
    "model.add(Dense(4096, activation='relu'))\n",
    "model.add(Dense(4096, activation='relu'))\n",
    "model.add(Dense(4096, activation='relu'))\n",
    "model.add(Dense(12, activation='softmax'))\n",
    "\n",
    "model.compile(optimizer=adam, loss='categorical_crossentropy', metrics=['accuracy'])\n",
    "model.summary()"
   ]
  },
  {
   "cell_type": "code",
   "execution_count": 9,
   "metadata": {},
   "outputs": [
    {
     "name": "stdout",
     "output_type": "stream",
     "text": [
      "Epoch 1/10\n",
      "20/20 [==============================] - 89s 4s/step - loss: 47.7122 - accuracy: 0.7012 - val_loss: 28.7798 - val_accuracy: 0.2655\n",
      "Epoch 2/10\n",
      "20/20 [==============================] - 93s 5s/step - loss: 0.2776 - accuracy: 0.9663 - val_loss: 54.1708 - val_accuracy: 0.2699\n",
      "Epoch 3/10\n",
      "20/20 [==============================] - 96s 5s/step - loss: 0.1896 - accuracy: 0.9820 - val_loss: 68.9935 - val_accuracy: 0.2788\n",
      "Epoch 4/10\n",
      "20/20 [==============================] - 98s 5s/step - loss: 0.0632 - accuracy: 0.9827 - val_loss: 55.5295 - val_accuracy: 0.2611\n",
      "Epoch 5/10\n",
      "20/20 [==============================] - 99s 5s/step - loss: 0.1098 - accuracy: 0.9882 - val_loss: 74.4052 - val_accuracy: 0.2743\n",
      "Epoch 6/10\n",
      "20/20 [==============================] - 100s 5s/step - loss: 0.1543 - accuracy: 0.9827 - val_loss: 80.1136 - val_accuracy: 0.2699\n"
     ]
    }
   ],
   "source": [
    "earlyStopping = EarlyStopping(min_delta=0.00,patience = 5)\n",
    "history = model.fit(trainImg,trainLabelsDummy,batch_size=64,\n",
    "                    epochs=10,validation_split=0.15,shuffle=True,\n",
    "                    callbacks=[earlyStopping])"
   ]
  },
  {
   "cell_type": "code",
   "execution_count": 10,
   "metadata": {},
   "outputs": [
    {
     "name": "stdout",
     "output_type": "stream",
     "text": [
      "10/10 [==============================] - 19s 2s/step - loss: 13.0852 - accuracy: 0.8479\n"
     ]
    }
   ],
   "source": [
    "ev = model.evaluate(testImg, testLabelsDummy)"
   ]
  },
  {
   "cell_type": "code",
   "execution_count": 11,
   "metadata": {},
   "outputs": [],
   "source": [
    "prediction = model.predict(testImg)"
   ]
  },
  {
   "cell_type": "code",
   "execution_count": 12,
   "metadata": {},
   "outputs": [],
   "source": [
    "yPred = dsu.predictClass(prediction)\n",
    "cm=confusion_matrix(yTest, yPred)"
   ]
  },
  {
   "cell_type": "code",
   "execution_count": 13,
   "metadata": {},
   "outputs": [
    {
     "data": {
      "image/png": "[encoded data removed]",
      "text/plain": [
       "<Figure size 1296x936 with 2 Axes>"
      ]
     },
     "metadata": {
      "needs_background": "light"
     },
     "output_type": "display_data"
    }
   ],
   "source": [
    "pltu.plotConfusionMatrix(cm, labels, \"confusion_matrix_1\", \"images_point_three/\")"
   ]
  },
  {
   "cell_type": "code",
   "execution_count": 14,
   "metadata": {},
   "outputs": [
    {
     "data": {
      "image/png": "[encoded data removed]",
      "text/plain": [
       "<Figure size 432x288 with 1 Axes>"
      ]
     },
     "metadata": {
      "needs_background": "light"
     },
     "output_type": "display_data"
    }
   ],
   "source": [
    "pltu.validationLoss(history, \"images_point_three\", \"validation_loss_1\")"
   ]
  },
  {
   "cell_type": "code",
   "execution_count": 15,
   "metadata": {},
   "outputs": [
    {
     "data": {
      "image/png": "[encoded data removed]",
      "text/plain": [
       "<Figure size 432x288 with 1 Axes>"
      ]
     },
     "metadata": {
      "needs_background": "light"
     },
     "output_type": "display_data"
    }
   ],
   "source": [
    "pltu.validationAccuracy(history, \"images_point_three\", \"validation_acc_1\")"
   ]
  },
  {
   "cell_type": "code",
   "execution_count": 16,
   "metadata": {},
   "outputs": [
    {
     "data": {
      "image/png": "[encoded data removed]",
      "text/plain": [
       "<Figure size 432x288 with 1 Axes>"
      ]
     },
     "metadata": {
      "needs_background": "light"
     },
     "output_type": "display_data"
    }
   ],
   "source": [
    "pltu.plottingAccuracy(history, \"images_point_three\", \"accuracy_1\")"
   ]
  },
  {
   "cell_type": "code",
   "execution_count": 17,
   "metadata": {},
   "outputs": [
    {
     "data": {
      "image/png": "[encoded data removed]",
      "text/plain": [
       "<Figure size 432x288 with 1 Axes>"
      ]
     },
     "metadata": {
      "needs_background": "light"
     },
     "output_type": "display_data"
    }
   ],
   "source": [
    "pltu.plottingLoss(history, \"images_point_three\", \"loss_1\")"
   ]
  },
  {
   "cell_type": "markdown",
   "metadata": {},
   "source": [
    "## Employ pre-trained network"
   ]
  },
  {
   "cell_type": "markdown",
   "metadata": {},
   "source": [
    "We are going to extract features obtained in the last convolutional layer of the VGG16. for each image, we will obtain 512 features, each of them is a 7x7 grid of values. To make these feature suitable for a SVM, we will flatten all the 512 features related to a specific image in a unique long vector."
   ]
  },
  {
   "cell_type": "code",
   "execution_count": 18,
   "metadata": {},
   "outputs": [],
   "source": [
    "from sklearn.svm import SVC\n",
    "from sklearn.metrics import accuracy_score\n",
    "\n",
    "from keras.utils import np_utils\n",
    "from tensorflow.keras.applications import VGG16, imagenet_utils\n",
    "from tensorflow.keras.callbacks import ModelCheckpoint\n",
    "from tensorflow.keras.preprocessing.image import load_img, img_to_array\n",
    "from tensorflow.keras.layers import GlobalAveragePooling2D"
   ]
  },
  {
   "cell_type": "code",
   "execution_count": 19,
   "metadata": {},
   "outputs": [],
   "source": [
    "xTrain, yTrain = dsu.loadImages(pathTrain, labels, dimension=224)\n",
    "xTest, yTest = dsu.loadImages(pathTest, labels, dimension=224)"
   ]
  },
  {
   "cell_type": "code",
   "execution_count": 20,
   "metadata": {},
   "outputs": [],
   "source": [
    "yTrainDummy = to_categorical(yTrain, 12)\n",
    "yTestDummy = to_categorical(yTest, 12)"
   ]
  },
  {
   "cell_type": "code",
   "execution_count": 21,
   "metadata": {},
   "outputs": [
    {
     "name": "stdout",
     "output_type": "stream",
     "text": [
      "Model: \"vgg16\"\n",
      "_________________________________________________________________\n",
      "Layer (type)                 Output Shape              Param #   \n",
      "=================================================================\n",
      "input_2 (InputLayer)         [(None, None, None, 3)]   0         \n",
      "_________________________________________________________________\n",
      "block1_conv1 (Conv2D)        (None, None, None, 64)    1792      \n",
      "_________________________________________________________________\n",
      "block1_conv2 (Conv2D)        (None, None, None, 64)    36928     \n",
      "_________________________________________________________________\n",
      "block1_pool (MaxPooling2D)   (None, None, None, 64)    0         \n",
      "_________________________________________________________________\n",
      "block2_conv1 (Conv2D)        (None, None, None, 128)   73856     \n",
      "_________________________________________________________________\n",
      "block2_conv2 (Conv2D)        (None, None, None, 128)   147584    \n",
      "_________________________________________________________________\n",
      "block2_pool (MaxPooling2D)   (None, None, None, 128)   0         \n",
      "_________________________________________________________________\n",
      "block3_conv1 (Conv2D)        (None, None, None, 256)   295168    \n",
      "_________________________________________________________________\n",
      "block3_conv2 (Conv2D)        (None, None, None, 256)   590080    \n",
      "_________________________________________________________________\n",
      "block3_conv3 (Conv2D)        (None, None, None, 256)   590080    \n",
      "_________________________________________________________________\n",
      "block3_pool (MaxPooling2D)   (None, None, None, 256)   0         \n",
      "_________________________________________________________________\n",
      "block4_conv1 (Conv2D)        (None, None, None, 512)   1180160   \n",
      "_________________________________________________________________\n",
      "block4_conv2 (Conv2D)        (None, None, None, 512)   2359808   \n",
      "_________________________________________________________________\n",
      "block4_conv3 (Conv2D)        (None, None, None, 512)   2359808   \n",
      "_________________________________________________________________\n",
      "block4_pool (MaxPooling2D)   (None, None, None, 512)   0         \n",
      "_________________________________________________________________\n",
      "block5_conv1 (Conv2D)        (None, None, None, 512)   2359808   \n",
      "_________________________________________________________________\n",
      "block5_conv2 (Conv2D)        (None, None, None, 512)   2359808   \n",
      "_________________________________________________________________\n",
      "block5_conv3 (Conv2D)        (None, None, None, 512)   2359808   \n",
      "_________________________________________________________________\n",
      "block5_pool (MaxPooling2D)   (None, None, None, 512)   0         \n",
      "=================================================================\n",
      "Total params: 14,714,688\n",
      "Trainable params: 14,714,688\n",
      "Non-trainable params: 0\n",
      "_________________________________________________________________\n"
     ]
    }
   ],
   "source": [
    "model = VGG16(weights='imagenet', include_top=False)\n",
    "model.summary()"
   ]
  },
  {
   "cell_type": "markdown",
   "metadata": {},
   "source": [
    "### Extract the features"
   ]
  },
  {
   "cell_type": "markdown",
   "metadata": {},
   "source": [
    "we define a function to extract the feature from image. This function take in input the path of images, the labels and the modle. From this value we load all images, prepocess they and extract the feature"
   ]
  },
  {
   "cell_type": "code",
   "execution_count": 24,
   "metadata": {},
   "outputs": [],
   "source": [
    "def extractFeatures(model, path, labels):\n",
    "    \n",
    "    pathImages = []\n",
    "    for label in labels:\n",
    "        s = path+'/'+label+'/{}'\n",
    "        temp = [s.format(i) for i in os.listdir(path+'/'+label+'/')]\n",
    "        pathImages = pathImages + temp\n",
    "    \n",
    "    res = []\n",
    "    count = 0\n",
    "    for p in pathImages:\n",
    "        count += 1\n",
    "        img = load_img(p, target_size=(224,224))\n",
    "        img = img_to_array(img)\n",
    "        img = np.expand_dims(img, axis=0)\n",
    "        img = imagenet_utils.preprocess_input(img)\n",
    "        res.append(img)\n",
    "        \n",
    "    images = np.vstack(res)\n",
    "    features = model.predict(images, batch_size=64)\n",
    "    featuresFlatten = features.reshape((features.shape[0], 7 * 7 * 512))\n",
    "    \n",
    "    return images, features, featuresFlatten"
   ]
  },
  {
   "cell_type": "code",
   "execution_count": 25,
   "metadata": {},
   "outputs": [],
   "source": [
    "trainImages, featureMatrix, featureArray = extractFeatures(model, pathTrain, labels)"
   ]
  },
  {
   "cell_type": "code",
   "execution_count": 26,
   "metadata": {},
   "outputs": [],
   "source": [
    "testImages, featureMatrixTest, featureArrayTest = extractFeatures(model, pathTest, labels)"
   ]
  },
  {
   "cell_type": "markdown",
   "metadata": {},
   "source": [
    "Now we use the SVM to predict classes of test data"
   ]
  },
  {
   "cell_type": "code",
   "execution_count": 27,
   "metadata": {},
   "outputs": [
    {
     "name": "stdout",
     "output_type": "stream",
     "text": [
      "0\n",
      "1\n",
      "2\n",
      "3\n",
      "4\n",
      "5\n",
      "6\n",
      "7\n",
      "8\n",
      "9\n",
      "10\n",
      "11\n"
     ]
    }
   ],
   "source": [
    "classif = [SVC(kernel=\"linear\") for _ in range(numberOfClasses)]\n",
    "\n",
    "currentLabel = 0\n",
    "for clf in classif:\n",
    "    print(currentLabel)\n",
    "    v = np.array([1 if label==currentLabel else 0 for label in yTrain])\n",
    "    clf = clf.fit(featureArray, v)\n",
    "    currentLabel += 1"
   ]
  },
  {
   "cell_type": "code",
   "execution_count": 28,
   "metadata": {},
   "outputs": [],
   "source": [
    "prediction = []\n",
    "for image in featureArrayTest:\n",
    "    pred = np.array([np.dot(clf.coef_,image) + clf.intercept_ for clf in classif])\n",
    "    prediction.append(np.argmax(pred))\n",
    "    \n",
    "prediction = np.asarray(prediction)"
   ]
  },
  {
   "cell_type": "code",
   "execution_count": 29,
   "metadata": {},
   "outputs": [
    {
     "name": "stdout",
     "output_type": "stream",
     "text": [
      "Accuracy value:  0.9838187702265372\n"
     ]
    }
   ],
   "source": [
    "cont=0\n",
    "for i in range(len(prediction)):\n",
    "    if prediction[i]==yTest[i]:\n",
    "        cont += 1\n",
    "    else:\n",
    "        continue\n",
    "        \n",
    "accuracy = cont/len(prediction)\n",
    "print(\"Accuracy value: \",accuracy)"
   ]
  },
  {
   "cell_type": "markdown",
   "metadata": {},
   "source": [
    "Now, we evaluate the qualitu of prediction of the linear swm"
   ]
  },
  {
   "cell_type": "code",
   "execution_count": 30,
   "metadata": {},
   "outputs": [],
   "source": [
    "tp = []\n",
    "fp = []\n",
    "fn = []\n",
    "tn = []\n",
    "for i in range(numberOfClasses):\n",
    "    tp_temp = 0\n",
    "    fp_temp = 0\n",
    "    fn_temp = 0\n",
    "    tn_temp = 0\n",
    "    \n",
    "    for j in range(len(prediction)):\n",
    "        if(prediction[j]==i and yTest[j]==i):\n",
    "            tp_temp += 1\n",
    "        if(prediction[j]==i and yTest[j]!=i):\n",
    "            fp_temp += 1\n",
    "        if(prediction[j]!=i and yTest[j]==i):\n",
    "            fn_temp += 1\n",
    "        if(prediction[j]!=i and yTest[j]!=i):\n",
    "            tn_temp += 1\n",
    "    tp.append(tp_temp)\n",
    "    fp.append(fp_temp)\n",
    "    fn.append(fn_temp)\n",
    "    tn.append(tn_temp)"
   ]
  },
  {
   "cell_type": "code",
   "execution_count": 31,
   "metadata": {},
   "outputs": [
    {
     "name": "stdout",
     "output_type": "stream",
     "text": [
      "Evaluation: \n"
     ]
    },
    {
     "data": {
      "text/html": [
       "<div>\n",
       "<style scoped>\n",
       "    .dataframe tbody tr th:only-of-type {\n",
       "        vertical-align: middle;\n",
       "    }\n",
       "\n",
       "    .dataframe tbody tr th {\n",
       "        vertical-align: top;\n",
       "    }\n",
       "\n",
       "    .dataframe thead th {\n",
       "        text-align: right;\n",
       "    }\n",
       "</style>\n",
       "<table border=\"1\" class=\"dataframe\">\n",
       "  <thead>\n",
       "    <tr style=\"text-align: right;\">\n",
       "      <th></th>\n",
       "      <th>labels</th>\n",
       "      <th>True positive</th>\n",
       "      <th>True negative</th>\n",
       "      <th>False positive</th>\n",
       "      <th>False negative</th>\n",
       "    </tr>\n",
       "  </thead>\n",
       "  <tbody>\n",
       "    <tr>\n",
       "      <th>0</th>\n",
       "      <td>171</td>\n",
       "      <td>8</td>\n",
       "      <td>301</td>\n",
       "      <td>0</td>\n",
       "      <td>0</td>\n",
       "    </tr>\n",
       "    <tr>\n",
       "      <th>1</th>\n",
       "      <td>178_FORSE</td>\n",
       "      <td>39</td>\n",
       "      <td>270</td>\n",
       "      <td>0</td>\n",
       "      <td>0</td>\n",
       "    </tr>\n",
       "    <tr>\n",
       "      <th>2</th>\n",
       "      <td>371</td>\n",
       "      <td>30</td>\n",
       "      <td>279</td>\n",
       "      <td>0</td>\n",
       "      <td>0</td>\n",
       "    </tr>\n",
       "    <tr>\n",
       "      <th>3</th>\n",
       "      <td>385_FORSE</td>\n",
       "      <td>72</td>\n",
       "      <td>237</td>\n",
       "      <td>0</td>\n",
       "      <td>0</td>\n",
       "    </tr>\n",
       "    <tr>\n",
       "      <th>4</th>\n",
       "      <td>43</td>\n",
       "      <td>11</td>\n",
       "      <td>295</td>\n",
       "      <td>0</td>\n",
       "      <td>3</td>\n",
       "    </tr>\n",
       "    <tr>\n",
       "      <th>5</th>\n",
       "      <td>438</td>\n",
       "      <td>3</td>\n",
       "      <td>306</td>\n",
       "      <td>0</td>\n",
       "      <td>0</td>\n",
       "    </tr>\n",
       "    <tr>\n",
       "      <th>6</th>\n",
       "      <td>619</td>\n",
       "      <td>6</td>\n",
       "      <td>302</td>\n",
       "      <td>0</td>\n",
       "      <td>1</td>\n",
       "    </tr>\n",
       "    <tr>\n",
       "      <th>7</th>\n",
       "      <td>655</td>\n",
       "      <td>38</td>\n",
       "      <td>267</td>\n",
       "      <td>4</td>\n",
       "      <td>0</td>\n",
       "    </tr>\n",
       "    <tr>\n",
       "      <th>8</th>\n",
       "      <td>659</td>\n",
       "      <td>5</td>\n",
       "      <td>303</td>\n",
       "      <td>0</td>\n",
       "      <td>1</td>\n",
       "    </tr>\n",
       "    <tr>\n",
       "      <th>9</th>\n",
       "      <td>72</td>\n",
       "      <td>53</td>\n",
       "      <td>256</td>\n",
       "      <td>0</td>\n",
       "      <td>0</td>\n",
       "    </tr>\n",
       "    <tr>\n",
       "      <th>10</th>\n",
       "      <td>96</td>\n",
       "      <td>34</td>\n",
       "      <td>274</td>\n",
       "      <td>1</td>\n",
       "      <td>0</td>\n",
       "    </tr>\n",
       "    <tr>\n",
       "      <th>11</th>\n",
       "      <td>Grandi</td>\n",
       "      <td>5</td>\n",
       "      <td>304</td>\n",
       "      <td>0</td>\n",
       "      <td>0</td>\n",
       "    </tr>\n",
       "  </tbody>\n",
       "</table>\n",
       "</div>"
      ],
      "text/plain": [
       "       labels  True positive  True negative  False positive  False negative\n",
       "0         171              8            301               0               0\n",
       "1   178_FORSE             39            270               0               0\n",
       "2         371             30            279               0               0\n",
       "3   385_FORSE             72            237               0               0\n",
       "4          43             11            295               0               3\n",
       "5         438              3            306               0               0\n",
       "6         619              6            302               0               1\n",
       "7         655             38            267               4               0\n",
       "8         659              5            303               0               1\n",
       "9          72             53            256               0               0\n",
       "10         96             34            274               1               0\n",
       "11     Grandi              5            304               0               0"
      ]
     },
     "execution_count": 31,
     "metadata": {},
     "output_type": "execute_result"
    }
   ],
   "source": [
    "data = {'labels':labels , 'True positive':tp,'True negative':tn,'False positive':fp,'False negative':fn}\n",
    "evaluation = pd.DataFrame(data, columns = ['labels','True positive','True negative','False positive','False negative'])\n",
    "print(\"Evaluation: \")\n",
    "evaluation"
   ]
  },
  {
   "cell_type": "markdown",
   "metadata": {},
   "source": [
    "Build confusion matrix"
   ]
  },
  {
   "cell_type": "code",
   "execution_count": 32,
   "metadata": {},
   "outputs": [],
   "source": [
    "cm = np.zeros((12,12))\n",
    "for i in range(numberOfClasses):\n",
    "    cm[i,i] = evaluation.loc[i]['True positive']\n",
    "    \n",
    "for i in range(numberOfClasses):\n",
    "    for j in range(numberOfClasses):\n",
    "        temp = 0\n",
    "        for k in range(len(yTest)):\n",
    "            if(yTest[k]==i and prediction[k]==j):\n",
    "                temp += 1\n",
    "        cm[i,j]=temp"
   ]
  },
  {
   "cell_type": "code",
   "execution_count": 33,
   "metadata": {},
   "outputs": [
    {
     "data": {
      "image/png": "[encoded data removed]",
      "text/plain": [
       "<Figure size 1296x936 with 2 Axes>"
      ]
     },
     "metadata": {
      "needs_background": "light"
     },
     "output_type": "display_data"
    }
   ],
   "source": [
    "pltu.plotConfusionMatrix(cm, labels, \"confusion_matrix_2\", \"images_point_three/\")"
   ]
  },
  {
   "cell_type": "code",
   "execution_count": null,
   "metadata": {},
   "outputs": [],
   "source": []
  }
 ],
 "metadata": {
  "kernelspec": {
   "display_name": "Python 3 (ipykernel)",
   "language": "python",
   "name": "python3"
  },
  "language_info": {
   "codemirror_mode": {
    "name": "ipython",
    "version": 3
   },
   "file_extension": ".py",
   "mimetype": "text/x-python",
   "name": "python",
   "nbconvert_exporter": "python",
   "pygments_lexer": "ipython3",
   "version": "3.7.11"
  }
 },
 "nbformat": 4,
 "nbformat_minor": 4
}
